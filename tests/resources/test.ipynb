{
 "cells": [
  {
   "cell_type": "code",
   "execution_count": 6,
   "metadata": {},
   "outputs": [],
   "source": [
    "from keras.layers import Dense\n",
    "import json\n",
    "d = Dense(64)\n",
    "j = json.load(open(\"Jo.ipynb\", 'r'))"
   ]
  },
  {
   "cell_type": "code",
   "execution_count": 12,
   "metadata": {},
   "outputs": [
    {
     "name": "stdout",
     "output_type": "stream",
     "text": [
      "{'cell_type': 'code', 'execution_count': 5, 'metadata': {}, 'outputs': [{'ename': 'AttributeError', 'evalue': \"'str' object has no attribute 'read'\", 'output_type': 'error', 'traceback': ['\\x1b[0;31m---------------------------------------------------------------------------\\x1b[0m', '\\x1b[0;31mAttributeError\\x1b[0m                            Traceback (most recent call last)', '\\x1b[0;32m<ipython-input-5-b9ad1057f691>\\x1b[0m in \\x1b[0;36m<module>\\x1b[0;34m\\x1b[0m\\n\\x1b[1;32m      2\\x1b[0m \\x1b[0;32mimport\\x1b[0m \\x1b[0mjson\\x1b[0m\\x1b[0;34m\\x1b[0m\\x1b[0;34m\\x1b[0m\\x1b[0m\\n\\x1b[1;32m      3\\x1b[0m \\x1b[0md\\x1b[0m \\x1b[0;34m=\\x1b[0m \\x1b[0mDense\\x1b[0m\\x1b[0;34m(\\x1b[0m\\x1b[0;36m64\\x1b[0m\\x1b[0;34m)\\x1b[0m\\x1b[0;34m\\x1b[0m\\x1b[0;34m\\x1b[0m\\x1b[0m\\n\\x1b[0;32m----> 4\\x1b[0;31m \\x1b[0mj\\x1b[0m \\x1b[0;34m=\\x1b[0m \\x1b[0mjson\\x1b[0m\\x1b[0;34m.\\x1b[0m\\x1b[0mload\\x1b[0m\\x1b[0;34m(\\x1b[0m\\x1b[0;34m\"Jo.ipynb\"\\x1b[0m\\x1b[0;34m)\\x1b[0m\\x1b[0;34m\\x1b[0m\\x1b[0;34m\\x1b[0m\\x1b[0m\\n\\x1b[0m', '\\x1b[0;32m~/.conda/envs/beakerx/lib/python3.7/json/__init__.py\\x1b[0m in \\x1b[0;36mload\\x1b[0;34m(fp, cls, object_hook, parse_float, parse_int, parse_constant, object_pairs_hook, **kw)\\x1b[0m\\n\\x1b[1;32m    291\\x1b[0m     \\x1b[0mkwarg\\x1b[0m\\x1b[0;34m;\\x1b[0m \\x1b[0motherwise\\x1b[0m\\x1b[0;31m \\x1b[0m\\x1b[0;31m`\\x1b[0m\\x1b[0;31m`\\x1b[0m\\x1b[0mJSONDecoder\\x1b[0m\\x1b[0;31m`\\x1b[0m\\x1b[0;31m`\\x1b[0m \\x1b[0;32mis\\x1b[0m \\x1b[0mused\\x1b[0m\\x1b[0;34m.\\x1b[0m\\x1b[0;34m\\x1b[0m\\x1b[0;34m\\x1b[0m\\x1b[0m\\n\\x1b[1;32m    292\\x1b[0m     \"\"\"\\n\\x1b[0;32m--> 293\\x1b[0;31m     return loads(fp.read(),\\n\\x1b[0m\\x1b[1;32m    294\\x1b[0m         \\x1b[0mcls\\x1b[0m\\x1b[0;34m=\\x1b[0m\\x1b[0mcls\\x1b[0m\\x1b[0;34m,\\x1b[0m \\x1b[0mobject_hook\\x1b[0m\\x1b[0;34m=\\x1b[0m\\x1b[0mobject_hook\\x1b[0m\\x1b[0;34m,\\x1b[0m\\x1b[0;34m\\x1b[0m\\x1b[0;34m\\x1b[0m\\x1b[0m\\n\\x1b[1;32m    295\\x1b[0m         \\x1b[0mparse_float\\x1b[0m\\x1b[0;34m=\\x1b[0m\\x1b[0mparse_float\\x1b[0m\\x1b[0;34m,\\x1b[0m \\x1b[0mparse_int\\x1b[0m\\x1b[0;34m=\\x1b[0m\\x1b[0mparse_int\\x1b[0m\\x1b[0;34m,\\x1b[0m\\x1b[0;34m\\x1b[0m\\x1b[0;34m\\x1b[0m\\x1b[0m\\n', \"\\x1b[0;31mAttributeError\\x1b[0m: 'str' object has no attribute 'read'\"]}], 'source': ['from keras.layers import Dense\\n', 'import json\\n', 'd = Dense(64)\\n', 'j = json.load(open(\"Jo.ipynb\", \\'r\\'))']}\n",
      "{'cell_type': 'code', 'execution_count': None, 'metadata': {}, 'outputs': [], 'source': []}\n",
      "{'cell_type': 'code', 'execution_count': None, 'metadata': {}, 'outputs': [], 'source': [\"# '---\\n\", \"#' title: Basic Input Demo\\n\", \"#' author: Leonhard Wachutka\\n\", \"#' wb:\\n\", \"#'  input:\\n\", '#\\'  - iris: \"Data/{wbP}/iris.RDS\"\\n', \"#'  output:\\n\", '#\\'  - wBhtml: \"Output/html/030_AnalysisOfId_{id}.html\"\\n', \"#'  type: noindex\\n\", \"#' output:\\n\", \"#'  html_document:\\n\", \"#'   code_folding: show\\n\", \"#'   code_download: TRUE\\n\", \"#'---\"]}\n"
     ]
    }
   ],
   "source": [
    "for cell in j[\"cells\"]:\n",
    "    print(cell)"
   ]
  },
  {
   "cell_type": "code",
   "execution_count": null,
   "metadata": {},
   "outputs": [],
   "source": [
    "#'---\n",
    "#' title: Basic Input Demo\n",
    "#' author: Leonhard Wachutka\n",
    "#' wb:\n",
    "#'  input:\n",
    "#'  - iris: \"Data/{wbP}/iris.RDS\"\n",
    "#'  output:\n",
    "#'  - wBhtml: \"Output/html/030_AnalysisOfId_{id}.html\"\n",
    "#'  type: noindex\n",
    "#' output:\n",
    "#'  html_document:\n",
    "#'   code_folding: show\n",
    "#'   code_download: TRUE\n",
    "#'---"
   ]
  }
 ],
 "metadata": {
  "kernelspec": {
   "display_name": "Python 3",
   "language": "python",
   "name": "python3"
  },
  "language_info": {
   "codemirror_mode": {
    "name": "ipython",
    "version": 3
   },
   "file_extension": ".py",
   "mimetype": "text/x-python",
   "name": "python",
   "nbconvert_exporter": "python",
   "pygments_lexer": "ipython3",
   "version": "3.7.4"
  },
  "toc": {
   "base_numbering": 1,
   "nav_menu": {},
   "number_sections": false,
   "sideBar": false,
   "skip_h1_title": false,
   "title_cell": "Table of Contents",
   "title_sidebar": "Contents",
   "toc_cell": false,
   "toc_position": {},
   "toc_section_display": false,
   "toc_window_display": false
  }
 },
 "nbformat": 4,
 "nbformat_minor": 2
}
